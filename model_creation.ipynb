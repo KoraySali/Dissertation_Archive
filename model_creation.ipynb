{
  "nbformat": 4,
  "nbformat_minor": 0,
  "metadata": {
    "colab": {
      "provenance": [],
      "authorship_tag": "ABX9TyOCYbJ5DE9h7SBpY2ST1Heo",
      "include_colab_link": true
    },
    "kernelspec": {
      "name": "python3",
      "display_name": "Python 3"
    },
    "language_info": {
      "name": "python"
    },
    "accelerator": "GPU",
    "gpuClass": "standard"
  },
  "cells": [
    {
      "cell_type": "markdown",
      "metadata": {
        "id": "view-in-github",
        "colab_type": "text"
      },
      "source": [
        "<a href=\"https://colab.research.google.com/github/KoraySali/Dissertation_Archive/blob/main/model_creation.ipynb\" target=\"_parent\"><img src=\"https://colab.research.google.com/assets/colab-badge.svg\" alt=\"Open In Colab\"/></a>"
      ]
    },
    {
      "cell_type": "markdown",
      "source": [
        "# **Wildfire Image Detection Dissertation**\n",
        "\n",
        "This file will include a number of important architectures, code and technologies. A Convolutional Neural Network (CNN) model will be used for the image detection of SMOKE, NO SMOKE, FIRE, NO FIRE classification.\n",
        "\n",
        "A chosen methodology will be followed in order to prevent confusion when writting and coding this dissertation. Various evaluation metrics will be used to evaluate the outcome of the image detection model along with a number of visualisations for readability.\n",
        "\n",
        "For copy/version issues a Github repository has been set up in order to retain versions and prevent loss of work.\n",
        "\n",
        "The runtime of this file will be GPU as a CPU runtime took a lot longer to perform/execute our code."
      ],
      "metadata": {
        "id": "Xbh8AvyIkmWf"
      }
    },
    {
      "cell_type": "code",
      "source": [
        "!git clone https://github.com/KoraySali/Dissertation_Archive.git"
      ],
      "metadata": {
        "colab": {
          "base_uri": "https://localhost:8080/"
        },
        "id": "LtLmyX68lQja",
        "outputId": "60d0b490-8b8c-449b-e1d4-12a85e5d1788"
      },
      "execution_count": 1,
      "outputs": [
        {
          "output_type": "stream",
          "name": "stdout",
          "text": [
            "Cloning into 'Dissertation_Archive'...\n",
            "remote: Enumerating objects: 53, done.\u001b[K\n",
            "remote: Counting objects: 100% (53/53), done.\u001b[K\n",
            "remote: Compressing objects: 100% (51/51), done.\u001b[K\n",
            "remote: Total 53 (delta 10), reused 15 (delta 1), pack-reused 0\u001b[K\n",
            "Unpacking objects: 100% (53/53), 2.09 MiB | 6.62 MiB/s, done.\n"
          ]
        }
      ]
    },
    {
      "cell_type": "markdown",
      "source": [
        "## Linking our Google Drive to our ipynb file\n",
        "\n",
        "An important step in this file is to link it to our Google Drive allowing for usability of the drive folder for uploading and downloading various files/folders."
      ],
      "metadata": {
        "id": "jjOPJjHoltUh"
      }
    },
    {
      "cell_type": "code",
      "execution_count": null,
      "metadata": {
        "id": "RUiIo0YxhXDY",
        "colab": {
          "base_uri": "https://localhost:8080/"
        },
        "outputId": "0daf81ac-01c8-46d0-a755-293df0f553f1"
      },
      "outputs": [
        {
          "output_type": "stream",
          "name": "stdout",
          "text": [
            "Mounted at /content/drive\n",
            "Dissertation_Wildfire_Detection.ipynb  main_dataset  test_big\n"
          ]
        }
      ],
      "source": [
        "# from google.colab import drive\n",
        "# drive.mount('/content/drive')\n",
        "\n",
        "\n",
        "# import os\n",
        "# os.chdir('/content/drive/My Drive/Dissertation')\n",
        "# folder = os.path.join('/content/drive/Dissertation')\n",
        "# !ls"
      ]
    },
    {
      "cell_type": "markdown",
      "source": [
        "## Importing our modules and libraries\n",
        "\n"
      ],
      "metadata": {
        "id": "OgPDuP8vnMPX"
      }
    },
    {
      "cell_type": "code",
      "source": [
        "import tensorflow as tf\n",
        "import numpy as np\n",
        "import math\n",
        "import timeit\n",
        "import matplotlib.pyplot as plt\n",
        "import numpy as np\n",
        "from matplotlib import image\n",
        "import os\n",
        "import cv2\n",
        "import matplotlib.image as mpimg\n",
        "import random\n",
        "from matplotlib.pyplot import imshow\n",
        "from sklearn.model_selection import train_test_split\n",
        "import shutil\n",
        "from skimage import io, transform\n",
        "import time\n",
        "%matplotlib inline"
      ],
      "metadata": {
        "id": "_uCaqTz2nLk6"
      },
      "execution_count": null,
      "outputs": []
    },
    {
      "cell_type": "code",
      "source": [
        "def select_images_in_folder(folder):\n",
        "    all_images = os.listdir(folder)\n",
        "    return all_images\n",
        "\n",
        "preprocessed_train_fire_images = select_images_in_folder(\"/content/Dissertation_Archive/preprocessed_dataset/train_fire\")\n",
        "preprocessed_train_smoke_images = select_images_in_folder(\"/content/Dissertation_Archive/preprocessed_dataset/train_smoke\")\n",
        "preprocessed_train_nofire_nosmoke_images = select_images_in_folder(\"/content/Dissertation_Archive/preprocessed_dataset/train_nofire_nosmoke\")"
      ],
      "metadata": {
        "id": "HfbA4bwCj3sO"
      },
      "execution_count": null,
      "outputs": []
    },
    {
      "cell_type": "code",
      "source": [
        "from keras.utils import to_categorical\n",
        "\n",
        "# Labeling the train_fire_images as class 0\n",
        "train_fire_labels = [0 for i in range(len(preprocessed_train_fire_images))]\n",
        "\n",
        "# Labeling the train_smoke_images as class 1\n",
        "train_smoke_labels = [1 for i in range(len(preprocessed_train_smoke_images))]\n",
        "\n",
        "# Labeling the train_nofire_nosmoke_images as class 2\n",
        "train_nofire_nosmoke_labels = [2 for i in range(len(preprocessed_train_nofire_nosmoke_images))]\n",
        "\n",
        "# One-hot encoding the labels\n",
        "train_fire_labels = to_categorical(train_fire_labels, num_classes=3)\n",
        "train_smoke_labels = to_categorical(train_smoke_labels, num_classes=3)\n",
        "train_nofire_nosmoke_labels = to_categorical(train_nofire_nosmoke_labels, num_classes=3)"
      ],
      "metadata": {
        "id": "1t9pJSCbnh2P"
      },
      "execution_count": null,
      "outputs": []
    },
    {
      "cell_type": "code",
      "source": [
        "train_smoke_labels"
      ],
      "metadata": {
        "id": "2pGE9Kr2pSE_",
        "colab": {
          "base_uri": "https://localhost:8080/"
        },
        "outputId": "41e363da-d11b-448a-ebd0-ff99abf87721"
      },
      "execution_count": null,
      "outputs": [
        {
          "output_type": "execute_result",
          "data": {
            "text/plain": [
              "array([[0., 1., 0.],\n",
              "       [0., 1., 0.],\n",
              "       [0., 1., 0.],\n",
              "       [0., 1., 0.],\n",
              "       [0., 1., 0.],\n",
              "       [0., 1., 0.],\n",
              "       [0., 1., 0.],\n",
              "       [0., 1., 0.],\n",
              "       [0., 1., 0.],\n",
              "       [0., 1., 0.],\n",
              "       [0., 1., 0.],\n",
              "       [0., 1., 0.],\n",
              "       [0., 1., 0.],\n",
              "       [0., 1., 0.],\n",
              "       [0., 1., 0.],\n",
              "       [0., 1., 0.],\n",
              "       [0., 1., 0.],\n",
              "       [0., 1., 0.],\n",
              "       [0., 1., 0.],\n",
              "       [0., 1., 0.],\n",
              "       [0., 1., 0.],\n",
              "       [0., 1., 0.],\n",
              "       [0., 1., 0.],\n",
              "       [0., 1., 0.],\n",
              "       [0., 1., 0.],\n",
              "       [0., 1., 0.],\n",
              "       [0., 1., 0.],\n",
              "       [0., 1., 0.],\n",
              "       [0., 1., 0.],\n",
              "       [0., 1., 0.],\n",
              "       [0., 1., 0.],\n",
              "       [0., 1., 0.],\n",
              "       [0., 1., 0.],\n",
              "       [0., 1., 0.],\n",
              "       [0., 1., 0.],\n",
              "       [0., 1., 0.],\n",
              "       [0., 1., 0.],\n",
              "       [0., 1., 0.],\n",
              "       [0., 1., 0.],\n",
              "       [0., 1., 0.],\n",
              "       [0., 1., 0.],\n",
              "       [0., 1., 0.],\n",
              "       [0., 1., 0.],\n",
              "       [0., 1., 0.],\n",
              "       [0., 1., 0.],\n",
              "       [0., 1., 0.],\n",
              "       [0., 1., 0.],\n",
              "       [0., 1., 0.],\n",
              "       [0., 1., 0.],\n",
              "       [0., 1., 0.]], dtype=float32)"
            ]
          },
          "metadata": {},
          "execution_count": 10
        }
      ]
    },
    {
      "cell_type": "code",
      "source": [
        "# Combining the preprocessed images and their labels\n",
        "X_train = np.concatenate([preprocessed_train_fire_images, preprocessed_train_smoke_images, preprocessed_train_nofire_nosmoke_images])\n",
        "y_train = np.concatenate([train_fire_labels, train_smoke_labels, train_nofire_nosmoke_labels])"
      ],
      "metadata": {
        "id": "VeVRkOPKpK-3"
      },
      "execution_count": null,
      "outputs": []
    },
    {
      "cell_type": "code",
      "source": [
        "from sklearn.model_selection import train_test_split\n",
        "\n",
        "X_train, X_test, y_train, y_test = train_test_split(X_train, y_train, test_size=0.2, random_state=42)\n",
        "print('Train data shape: ', X_train.shape)\n",
        "print('Train labels shape: ', y_train.shape, y_train.dtype)\n",
        "print('Test data shape: ', X_test.shape)\n",
        "print('Test labels shape: ', y_test.shape)"
      ],
      "metadata": {
        "id": "2INvzNQMnovW",
        "colab": {
          "base_uri": "https://localhost:8080/"
        },
        "outputId": "cf136642-8ffa-4a1e-a1eb-c7998aeffdb0"
      },
      "execution_count": null,
      "outputs": [
        {
          "output_type": "stream",
          "name": "stdout",
          "text": [
            "Train data shape:  (120, 68, 68, 3)\n",
            "Train labels shape:  (120, 3) float32\n",
            "Test data shape:  (30, 68, 68, 3)\n",
            "Test labels shape:  (30, 3)\n"
          ]
        }
      ]
    },
    {
      "cell_type": "code",
      "source": [
        "mean_pixel = X_train.mean(axis=(0, 1, 2), keepdims=True)\n",
        "std_pixel = X_train.std(axis=(0, 1, 2), keepdims=True)\n",
        "X_train = (X_train - mean_pixel) / std_pixel\n",
        "X_test = (X_test - mean_pixel) / std_pixel"
      ],
      "metadata": {
        "id": "y4M5xB7Frjpf"
      },
      "execution_count": null,
      "outputs": []
    },
    {
      "cell_type": "code",
      "source": [
        "print('Train data shape: ', X_train.shape)\n",
        "print('Train labels shape: ', y_train.shape, y_train.dtype)\n",
        "print('Test data shape: ', X_test.shape)\n",
        "print('Test labels shape: ', y_test.shape)"
      ],
      "metadata": {
        "id": "tUtyBD8vsYuv",
        "colab": {
          "base_uri": "https://localhost:8080/"
        },
        "outputId": "fa3876bf-fb60-4f30-e8c3-42ab806c7e63"
      },
      "execution_count": null,
      "outputs": [
        {
          "output_type": "stream",
          "name": "stdout",
          "text": [
            "Train data shape:  (120, 68, 68, 3)\n",
            "Train labels shape:  (120, 3) float32\n",
            "Test data shape:  (30, 68, 68, 3)\n",
            "Test labels shape:  (30, 3)\n"
          ]
        }
      ]
    },
    {
      "cell_type": "markdown",
      "source": [
        "Label all images in the train folders"
      ],
      "metadata": {
        "id": "4abaUFWQ5zWN"
      }
    },
    {
      "cell_type": "markdown",
      "source": [
        "## Model Creation"
      ],
      "metadata": {
        "id": "hF2C8mqWCB4O"
      }
    },
    {
      "cell_type": "code",
      "source": [
        "from numpy.random import seed\n",
        "seed(1)\n",
        "tf.random.set_seed(1)"
      ],
      "metadata": {
        "id": "maOikwJyslsG"
      },
      "execution_count": null,
      "outputs": []
    },
    {
      "cell_type": "code",
      "source": [
        "from tensorflow.keras.layers import Input, Conv2D, BatchNormalization, Dropout, concatenate, Flatten, Dense, MaxPooling2D\n",
        "\n",
        "# Define the inputs\n",
        "inputs = Input(shape=(68, 68, 3))\n",
        "\n",
        "# Define the first CNN model with dropout and batch normalization\n",
        "x1 = Conv2D(32, (3,3), activation='relu', padding='same')(inputs)\n",
        "x1 = BatchNormalization()(x1)\n",
        "x1 = Dropout(0.2)(x1)\n",
        "x1 = Conv2D(32, (3,3), activation='relu', padding='same')(x1)\n",
        "x1 = BatchNormalization()(x1)\n",
        "x1 = Dropout(0.2)(x1)\n",
        "x1 = MaxPooling2D(pool_size=(2, 2))(x1)\n",
        "\n",
        "# Define the second CNN model with dropout and batch normalization\n",
        "x2 = Conv2D(64, (3,3), activation='relu', padding='same')(inputs)\n",
        "x2 = BatchNormalization()(x2)\n",
        "x2 = Dropout(0.2)(x2)\n",
        "x2 = Conv2D(64, (3,3), activation='relu', padding='same')(x2)\n",
        "x2 = BatchNormalization()(x2)\n",
        "x2 = Dropout(0.2)(x2)\n",
        "x2 = MaxPooling2D(pool_size=(2, 2))(x2)\n",
        "\n",
        "# Define the third CNN model with dropout and batch normalization\n",
        "x3 = Conv2D(128, (3,3), activation='relu', padding='same')(inputs)\n",
        "x3 = BatchNormalization()(x3)\n",
        "x3 = Dropout(0.2)(x3)\n",
        "x3 = Conv2D(128, (3,3), activation='relu', padding='same')(x3)\n",
        "x3 = BatchNormalization()(x3)\n",
        "x3 = Dropout(0.2)(x3)\n",
        "x3 = MaxPooling2D(pool_size=(2, 2))(x3)\n",
        "\n",
        "# Concatenate the outputs of the CNN models\n",
        "x = concatenate([x1, x2, x3])\n",
        "\n",
        "# Flatten the output and add a dense layer for classification\n",
        "x = Flatten()(x)\n",
        "x = Dense(256, activation='relu')(x)\n",
        "x = Dropout(0.5)(x)\n",
        "outputs = Dense(3, activation='softmax')(x)\n",
        "\n",
        "# Create the model\n",
        "model = tf.keras.models.Model(inputs=inputs, outputs=outputs)\n",
        "\n",
        "# Compile the model\n",
        "model.compile(optimizer='adam', loss='categorical_crossentropy', metrics=['accuracy'])\n",
        "test_base = model.fit(X_train, y_train, epochs=10, batch_size=32, validation_data=(X_test, y_test))"
      ],
      "metadata": {
        "colab": {
          "base_uri": "https://localhost:8080/"
        },
        "id": "3IHFSh2TUNtr",
        "outputId": "9e579359-9d00-4d06-9368-9cbd0750256c"
      },
      "execution_count": null,
      "outputs": [
        {
          "output_type": "stream",
          "name": "stdout",
          "text": [
            "Epoch 1/10\n",
            "4/4 [==============================] - 17s 780ms/step - loss: 116.2412 - accuracy: 0.4750 - val_loss: 3.3046 - val_accuracy: 0.8333\n",
            "Epoch 2/10\n",
            "4/4 [==============================] - 0s 117ms/step - loss: 67.0048 - accuracy: 0.7250 - val_loss: 1.9769 - val_accuracy: 0.8333\n",
            "Epoch 3/10\n",
            "4/4 [==============================] - 0s 111ms/step - loss: 30.1324 - accuracy: 0.7917 - val_loss: 5.0216 - val_accuracy: 0.8000\n",
            "Epoch 4/10\n",
            "4/4 [==============================] - 0s 110ms/step - loss: 17.8288 - accuracy: 0.8417 - val_loss: 6.7052 - val_accuracy: 0.7333\n",
            "Epoch 5/10\n",
            "4/4 [==============================] - 0s 110ms/step - loss: 9.7634 - accuracy: 0.8667 - val_loss: 12.9080 - val_accuracy: 0.7333\n",
            "Epoch 6/10\n",
            "4/4 [==============================] - 0s 108ms/step - loss: 3.1222 - accuracy: 0.9083 - val_loss: 21.9604 - val_accuracy: 0.7000\n",
            "Epoch 7/10\n",
            "4/4 [==============================] - 0s 109ms/step - loss: 4.4201 - accuracy: 0.9083 - val_loss: 30.3367 - val_accuracy: 0.6667\n",
            "Epoch 8/10\n",
            "4/4 [==============================] - 0s 108ms/step - loss: 3.9171 - accuracy: 0.8833 - val_loss: 37.8341 - val_accuracy: 0.6333\n",
            "Epoch 9/10\n",
            "4/4 [==============================] - 0s 108ms/step - loss: 5.8952 - accuracy: 0.8833 - val_loss: 46.3587 - val_accuracy: 0.6000\n",
            "Epoch 10/10\n",
            "4/4 [==============================] - 0s 110ms/step - loss: 1.1543 - accuracy: 0.9667 - val_loss: 55.3072 - val_accuracy: 0.5667\n"
          ]
        }
      ]
    },
    {
      "cell_type": "code",
      "source": [
        "base_model = tf.keras.models.Sequential([\n",
        "    tf.keras.layers.Conv2D(filters=32, kernel_size=3, padding=\"same\", activation=\"relu\", input_shape=[68,68,3]),\n",
        "    tf.keras.layers.MaxPooling2D(2,2),\n",
        "\n",
        "    tf.keras.layers.Conv2D(filters=64, kernel_size=3, padding=\"same\", activation=\"relu\"),\n",
        "    tf.keras.layers.MaxPooling2D(2,2),\n",
        "\n",
        "    tf.keras.layers.Flatten(),\n",
        "    tf.keras.layers.Dense(128, activation=\"relu\"),\n",
        "    tf.keras.layers.Dense(3, activation=\"softmax\")\n",
        "])"
      ],
      "metadata": {
        "id": "68POZKmEtOwY"
      },
      "execution_count": null,
      "outputs": []
    },
    {
      "cell_type": "code",
      "source": [
        "base_model.compile(loss=tf.keras.losses.CategoricalCrossentropy(), optimizer=tf.keras.optimizers.Adam(), metrics=[\"accuracy\"])\n",
        "history_base = base_model.fit(X_train, y_train, epochs=10, batch_size=32, validation_data=(X_test, y_test))"
      ],
      "metadata": {
        "id": "zC9gqVZWuDc-",
        "colab": {
          "base_uri": "https://localhost:8080/"
        },
        "outputId": "3908ae22-1d88-4460-d7b0-eed7c8df2fcc"
      },
      "execution_count": null,
      "outputs": [
        {
          "output_type": "stream",
          "name": "stdout",
          "text": [
            "Epoch 1/10\n",
            "4/4 [==============================] - 2s 178ms/step - loss: 2.1850 - accuracy: 0.2917 - val_loss: 1.1120 - val_accuracy: 0.5000\n",
            "Epoch 2/10\n",
            "4/4 [==============================] - 0s 23ms/step - loss: 0.9958 - accuracy: 0.6250 - val_loss: 0.6365 - val_accuracy: 0.7333\n",
            "Epoch 3/10\n",
            "4/4 [==============================] - 0s 38ms/step - loss: 0.7033 - accuracy: 0.7000 - val_loss: 0.5954 - val_accuracy: 0.8333\n",
            "Epoch 4/10\n",
            "4/4 [==============================] - 0s 28ms/step - loss: 0.6057 - accuracy: 0.7250 - val_loss: 0.4428 - val_accuracy: 0.8333\n",
            "Epoch 5/10\n",
            "4/4 [==============================] - 0s 37ms/step - loss: 0.4886 - accuracy: 0.8083 - val_loss: 0.4367 - val_accuracy: 0.7667\n",
            "Epoch 6/10\n",
            "4/4 [==============================] - 0s 34ms/step - loss: 0.4295 - accuracy: 0.8500 - val_loss: 0.3776 - val_accuracy: 0.7667\n",
            "Epoch 7/10\n",
            "4/4 [==============================] - 0s 45ms/step - loss: 0.3154 - accuracy: 0.8750 - val_loss: 0.3252 - val_accuracy: 0.8667\n",
            "Epoch 8/10\n",
            "4/4 [==============================] - 0s 30ms/step - loss: 0.2422 - accuracy: 0.9417 - val_loss: 0.3405 - val_accuracy: 0.8000\n",
            "Epoch 9/10\n",
            "4/4 [==============================] - 0s 33ms/step - loss: 0.1663 - accuracy: 0.9333 - val_loss: 0.2801 - val_accuracy: 0.8667\n",
            "Epoch 10/10\n",
            "4/4 [==============================] - 0s 48ms/step - loss: 0.1054 - accuracy: 0.9833 - val_loss: 0.2714 - val_accuracy: 0.8667\n"
          ]
        }
      ]
    },
    {
      "cell_type": "markdown",
      "source": [
        "## Model Performance Analysis"
      ],
      "metadata": {
        "id": "k9n17jHcuXcb"
      }
    },
    {
      "cell_type": "code",
      "source": [
        "class_names = ['fire', 'smoke', 'no_fire_no_smoke']"
      ],
      "metadata": {
        "id": "SH3jecj_ucLI"
      },
      "execution_count": null,
      "outputs": []
    },
    {
      "cell_type": "code",
      "source": [
        "predicted_classes  = np.argmax(base_model.predict(X_test.reshape(-1,68,68,3)), axis=-1)\n",
        "y_true=y_test"
      ],
      "metadata": {
        "id": "YH0QqeU8u6a9",
        "colab": {
          "base_uri": "https://localhost:8080/"
        },
        "outputId": "d185b45c-549e-4fcf-b44c-8bf62cc33dc6"
      },
      "execution_count": null,
      "outputs": [
        {
          "output_type": "stream",
          "name": "stdout",
          "text": [
            "1/1 [==============================] - 0s 93ms/step\n"
          ]
        }
      ]
    },
    {
      "cell_type": "code",
      "source": [
        "y_true = np.argmax(y_test, axis=-1)\n",
        "correct = np.nonzero(predicted_classes == y_true)[0]\n",
        "incorrect = np.nonzero(predicted_classes != y_true)[0]\n",
        "\n",
        "print(\"Correct predicted classes:\",correct.shape[0])\n",
        "print(\"Incorrect predicted classes:\",incorrect.shape[0])"
      ],
      "metadata": {
        "id": "WYYzIbv6wB1O",
        "colab": {
          "base_uri": "https://localhost:8080/"
        },
        "outputId": "a9c9a4b9-dfd3-46d8-a887-2d72713b6e82"
      },
      "execution_count": null,
      "outputs": [
        {
          "output_type": "stream",
          "name": "stdout",
          "text": [
            "Correct predicted classes: 26\n",
            "Incorrect predicted classes: 4\n"
          ]
        }
      ]
    },
    {
      "cell_type": "markdown",
      "source": [
        "## Plotting the train and test imagery"
      ],
      "metadata": {
        "id": "qsT1MvTww6xa"
      }
    },
    {
      "cell_type": "code",
      "source": [
        "def plot_images(data_index):\n",
        "    f, ax = plt.subplots(3, 3, figsize=(10,10))\n",
        "\n",
        "    for i, indx in enumerate(data_index[:9]):\n",
        "        ax[i//3, i%3].imshow(X_test[indx].reshape(68, 68, 3), cmap='gray')\n",
        "        ax[i//3, i%3].axis('off')\n",
        "        ax[i//3, i%3].set_title(\"True:{}  Pred:{}\".format(class_names[y_true[indx]], class_names[predicted_classes[indx]]))\n",
        "    f.tight_layout()\n",
        "    plt.show()   \n",
        "\n",
        "plot_images(correct)"
      ],
      "metadata": {
        "id": "zhE60hN8unDm",
        "colab": {
          "base_uri": "https://localhost:8080/",
          "height": 803
        },
        "outputId": "48d004ab-e806-48ff-d271-97e017c1234e"
      },
      "execution_count": null,
      "outputs": [
        {
          "output_type": "stream",
          "name": "stderr",
          "text": [
            "WARNING:matplotlib.image:Clipping input data to the valid range for imshow with RGB data ([0..1] for floats or [0..255] for integers).\n",
            "WARNING:matplotlib.image:Clipping input data to the valid range for imshow with RGB data ([0..1] for floats or [0..255] for integers).\n",
            "WARNING:matplotlib.image:Clipping input data to the valid range for imshow with RGB data ([0..1] for floats or [0..255] for integers).\n",
            "WARNING:matplotlib.image:Clipping input data to the valid range for imshow with RGB data ([0..1] for floats or [0..255] for integers).\n",
            "WARNING:matplotlib.image:Clipping input data to the valid range for imshow with RGB data ([0..1] for floats or [0..255] for integers).\n",
            "WARNING:matplotlib.image:Clipping input data to the valid range for imshow with RGB data ([0..1] for floats or [0..255] for integers).\n",
            "WARNING:matplotlib.image:Clipping input data to the valid range for imshow with RGB data ([0..1] for floats or [0..255] for integers).\n",
            "WARNING:matplotlib.image:Clipping input data to the valid range for imshow with RGB data ([0..1] for floats or [0..255] for integers).\n",
            "WARNING:matplotlib.image:Clipping input data to the valid range for imshow with RGB data ([0..1] for floats or [0..255] for integers).\n"
          ]
        },
        {
          "output_type": "display_data",
          "data": {
            "text/plain": [
              "<Figure size 720x720 with 9 Axes>"
            ],
            "image/png": "[encoded data removed]"
          },
          "metadata": {
            "needs_background": "light"
          }
        }
      ]
    },
    {
      "cell_type": "code",
      "source": [
        "plot_images(incorrect)"
      ],
      "metadata": {
        "id": "s1YSufO-xVE6",
        "colab": {
          "base_uri": "https://localhost:8080/",
          "height": 871
        },
        "outputId": "4ca5c90c-96f0-41c9-8955-47e560b0dc22"
      },
      "execution_count": null,
      "outputs": [
        {
          "output_type": "stream",
          "name": "stderr",
          "text": [
            "WARNING:matplotlib.image:Clipping input data to the valid range for imshow with RGB data ([0..1] for floats or [0..255] for integers).\n",
            "WARNING:matplotlib.image:Clipping input data to the valid range for imshow with RGB data ([0..1] for floats or [0..255] for integers).\n",
            "WARNING:matplotlib.image:Clipping input data to the valid range for imshow with RGB data ([0..1] for floats or [0..255] for integers).\n",
            "WARNING:matplotlib.image:Clipping input data to the valid range for imshow with RGB data ([0..1] for floats or [0..255] for integers).\n",
            "WARNING:matplotlib.image:Clipping input data to the valid range for imshow with RGB data ([0..1] for floats or [0..255] for integers).\n",
            "WARNING:matplotlib.image:Clipping input data to the valid range for imshow with RGB data ([0..1] for floats or [0..255] for integers).\n",
            "WARNING:matplotlib.image:Clipping input data to the valid range for imshow with RGB data ([0..1] for floats or [0..255] for integers).\n",
            "WARNING:matplotlib.image:Clipping input data to the valid range for imshow with RGB data ([0..1] for floats or [0..255] for integers).\n",
            "WARNING:matplotlib.image:Clipping input data to the valid range for imshow with RGB data ([0..1] for floats or [0..255] for integers).\n"
          ]
        },
        {
          "output_type": "display_data",
          "data": {
            "text/plain": [
              "<Figure size 720x720 with 9 Axes>"
            ],
            "image/png": "[encoded data removed]"
          },
          "metadata": {
            "needs_background": "light"
          }
        }
      ]
    }
  ]
}