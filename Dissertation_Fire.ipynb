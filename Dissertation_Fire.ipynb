{
  "nbformat": 4,
  "nbformat_minor": 0,
  "metadata": {
    "colab": {
      "provenance": [],
      "authorship_tag": "ABX9TyOS/jQkREMyVxs6qMwichxT",
      "include_colab_link": true
    },
    "kernelspec": {
      "name": "python3",
      "display_name": "Python 3"
    },
    "language_info": {
      "name": "python"
    },
    "accelerator": "GPU",
    "gpuClass": "standard"
  },
  "cells": [
    {
      "cell_type": "markdown",
      "metadata": {
        "id": "view-in-github",
        "colab_type": "text"
      },
      "source": [
        "<a href=\"https://colab.research.google.com/github/KoraySali/Dissertation_Archive/blob/main/Dissertation_Fire.ipynb\" target=\"_parent\"><img src=\"https://colab.research.google.com/assets/colab-badge.svg\" alt=\"Open In Colab\"/></a>"
      ]
    },
    {
      "cell_type": "markdown",
      "source": [
        "# **Wildfire Image Detection Dissertation**\n",
        "\n",
        "This file will include a number of important architectures, code and technologies. A Convolutional Neural Network (CNN) model will be used for the image detection of SMOKE, NO SMOKE, FIRE, NO FIRE classification.\n",
        "\n",
        "A chosen methodology will be followed in order to prevent confusion when writting and coding this dissertation. Various evaluation metrics will be used to evaluate the outcome of the image detection model along with a number of visualisations for readability.\n",
        "\n",
        "For copy/version issues a Github repository has been set up in order to retain versions and prevent loss of work.\n",
        "\n",
        "The runtime of this file will be GPU as a CPU runtime took a lot longer to perform/execute our code."
      ],
      "metadata": {
        "id": "Xbh8AvyIkmWf"
      }
    },
    {
      "cell_type": "markdown",
      "source": [
        "## Linking our Google Drive to our ipynb file\n",
        "\n",
        "An important step in this file is to link it to our Google Drive allowing for usability of the drive folder for uploading and downloading various files/folders."
      ],
      "metadata": {
        "id": "jjOPJjHoltUh"
      }
    },
    {
      "cell_type": "code",
      "execution_count": 1,
      "metadata": {
        "id": "RUiIo0YxhXDY",
        "colab": {
          "base_uri": "https://localhost:8080/"
        },
        "outputId": "58faac9e-4d55-465e-a975-aafe5ce6f73a"
      },
      "outputs": [
        {
          "output_type": "stream",
          "name": "stdout",
          "text": [
            "Mounted at /content/drive\n",
            "Dissertation_Fire.ipynb\n"
          ]
        }
      ],
      "source": [
        "from google.colab import drive\n",
        "drive.mount('/content/drive')\n",
        "\n",
        "\n",
        "import os\n",
        "os.chdir('/content/drive/My Drive/Dissertation')\n",
        "folder = os.path.join('/content/drive/Dissertation')\n",
        "!ls"
      ]
    },
    {
      "cell_type": "markdown",
      "source": [
        "## Importing our modules and libraries\n",
        "\n"
      ],
      "metadata": {
        "id": "OgPDuP8vnMPX"
      }
    },
    {
      "cell_type": "code",
      "source": [],
      "metadata": {
        "id": "_uCaqTz2nLk6"
      },
      "execution_count": null,
      "outputs": []
    }
  ]
}